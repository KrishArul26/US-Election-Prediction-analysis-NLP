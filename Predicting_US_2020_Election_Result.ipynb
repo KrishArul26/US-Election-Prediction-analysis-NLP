{
 "cells": [
  {
   "cell_type": "markdown",
   "id": "precious-laser",
   "metadata": {},
   "source": [
    "## Predicting US Election Result Sentiment Analysis"
   ]
  },
  {
   "cell_type": "code",
   "execution_count": 127,
   "id": "tribal-quality",
   "metadata": {},
   "outputs": [],
   "source": [
    "import pandas as pd #data manipulation and analysis library\n",
    "import numpy as np#scientific computing library\n",
    "import seaborn as sns #Data visualization library based on Matplotlib\n",
    "import matplotlib.pyplot as plt#plotting library\n",
    "from textblob import TextBlob # processed textual data library tool (already trained on numerous textual data\n",
    "import warnings # For identify the warning\n",
    "warnings.filterwarnings('ignore')#ignore warning\n",
    "import plotly.graph_objects as go\n",
    "import plotly\n"
   ]
  },
  {
   "cell_type": "markdown",
   "id": "diagnostic-partnership",
   "metadata": {},
   "source": [
    "According to the reports of “The New York Times”, mostly everyone has dropped out till April 2020 who was running \n",
    "for Presidential election and the only left ones are Donald Trump and Joe Biden now. \n",
    "So, I have done a small analysis for trying to predict the winner of this election.\n",
    "The datasets can be downold by uusing this link.\n",
    "https://github.com/amankharwal/Website-data/blob/master/US%20Election%20using%20twitter%20sentiment.rar"
   ]
  },
  {
   "cell_type": "markdown",
   "id": "religious-gallery",
   "metadata": {},
   "source": [
    "Read the data set"
   ]
  },
  {
   "cell_type": "code",
   "execution_count": 45,
   "id": "right-niger",
   "metadata": {},
   "outputs": [],
   "source": [
    "trump_re = pd.read_csv(\"Trumpall2.csv\")\n",
    "biden_re = pd.read_csv(\"Bidenall2.csv\")"
   ]
  },
  {
   "cell_type": "code",
   "execution_count": 46,
   "id": "theoretical-foundation",
   "metadata": {},
   "outputs": [
    {
     "name": "stdout",
     "output_type": "stream",
     "text": [
      "              user                                               text\n",
      "0      manny_rosen   @sanofi please tell us how many shares the Cr...\n",
      "1        osi_abdul   https://t.co/atM98CpqF7  Like, comment, RT #P...\n",
      "2          Patsyrw   Your AG Barr is as useless &amp; corrupt as y...\n",
      "3  seyedebrahimi_m   Mr. Trump! Wake Up!  Most of the comments bel...\n",
      "4    James09254677   After 4 years you think you would have figure...\n",
      "           user                                               text\n",
      "0   MarkHodder3    @JoeBiden And we’ll find out who won in 2026...\n",
      "1    K87327961G  @JoeBiden Your Democratic Nazi Party cannot be...\n",
      "2      OldlaceA                        @JoeBiden So did Lying Barr\n",
      "3    penblogger  @JoeBiden It's clear you didnt compose this tw...\n",
      "4  Aquarian0264         @JoeBiden I will vote in person thank you.\n"
     ]
    }
   ],
   "source": [
    "print(trump_re.head())\n",
    "print(biden_re.head())"
   ]
  },
  {
   "cell_type": "code",
   "execution_count": 47,
   "id": "latest-vintage",
   "metadata": {},
   "outputs": [
    {
     "name": "stdout",
     "output_type": "stream",
     "text": [
      " Lenngth of Reviews regarding Trump 2788\n",
      " Lenngth of Reviews regarding biden 2540\n"
     ]
    }
   ],
   "source": [
    "# Find the length of the twitter\n",
    "print(\" Lenngth of Reviews regarding Trump\"+\" \" + str(len(trump_re)))\n",
    "print(\" Lenngth of Reviews regarding biden\"+\" \" + str(len(biden_re)))"
   ]
  },
  {
   "cell_type": "code",
   "execution_count": 48,
   "id": "fatal-wallet",
   "metadata": {},
   "outputs": [
    {
     "name": "stdout",
     "output_type": "stream",
     "text": [
      "0        @sanofi please tell us how many shares the Cr...\n",
      "1        https://t.co/atM98CpqF7  Like, comment, RT #P...\n",
      "2        Your AG Barr is as useless &amp; corrupt as y...\n",
      "3        Mr. Trump! Wake Up!  Most of the comments bel...\n",
      "4        After 4 years you think you would have figure...\n",
      "                              ...                        \n",
      "2783    @realDonaldTrump For the 1/100 time, absentee ...\n",
      "2784    @realDonaldTrump If you’re so scared of losing...\n",
      "2785    @realDonaldTrump I rarely get involved with fo...\n",
      "2786    @realDonaldTrump This is the moment when Trump...\n",
      "2787       @realDonaldTrump I’m sorry, Donald. No. #POTUS\n",
      "Name: text, Length: 2788, dtype: object\n"
     ]
    }
   ],
   "source": [
    "print(trump_re['text'])"
   ]
  },
  {
   "cell_type": "code",
   "execution_count": 49,
   "id": "metric-knife",
   "metadata": {},
   "outputs": [
    {
     "name": "stdout",
     "output_type": "stream",
     "text": [
      "                 user                                               text  \\\n",
      "2783          4diva63  @realDonaldTrump For the 1/100 time, absentee ...   \n",
      "2784         hidge826  @realDonaldTrump If you’re so scared of losing...   \n",
      "2785     SpencerRossy  @realDonaldTrump I rarely get involved with fo...   \n",
      "2786  ScoobyMcpherson  @realDonaldTrump This is the moment when Trump...   \n",
      "2787          bjklinz     @realDonaldTrump I’m sorry, Donald. No. #POTUS   \n",
      "\n",
      "      polarity  \n",
      "2783     0.000  \n",
      "2784     0.000  \n",
      "2785     0.225  \n",
      "2786     0.000  \n",
      "2787    -0.500  \n",
      "             user                                               text  polarity\n",
      "2535    meryn1977  @JoeBiden You'll just try to calm those waters...      0.15\n",
      "2536  BSNelson114  @JoeBiden 96 days 96 dias #VoteJoeBiden2020  #...      0.00\n",
      "2537     KenCapel  @JoeBiden YOU THINK YOU CAN DO THAT??? YOU CAN...      0.00\n",
      "2538   LeslyeHale  @JoeBiden Trump wants our children back at sch...      0.10\n",
      "2539     rerickre  @JoeBiden ... and I know, because it’s much co...      0.20\n"
     ]
    }
   ],
   "source": [
    "# Find the polarity of both twitter\n",
    "def find_pol(review):\n",
    "    return TextBlob(review).sentiment.polarity\n",
    "trump_re[\"polarity\"] = trump_re[\"text\"].apply(find_pol)\n",
    "print(trump_re.tail())\n",
    "\n",
    "biden_re[\"polarity\"] = biden_re[\"text\"].apply(find_pol)\n",
    "print(biden_re.tail())"
   ]
  },
  {
   "cell_type": "code",
   "execution_count": 50,
   "id": "adjusted-yeast",
   "metadata": {},
   "outputs": [
    {
     "name": "stdout",
     "output_type": "stream",
     "text": [
      "(1324, 3)\n",
      "(1031, 3)\n"
     ]
    }
   ],
   "source": [
    "# Exctract the polarity value equal to zero and remove that raw from each data set\n",
    "# Remove the polarity value equal to zero regarding Trump twitter\n",
    "\n",
    "trump_re_netural= trump_re[trump_re['polarity'] == 0.0000]\n",
    "cond1=trump_re['polarity'].isin(trump_re_netural['polarity'])\n",
    "trump_re.drop(trump_re[cond1].index, inplace = True)\n",
    "\n",
    "#Remove the polarity value equal to zero regarding Biden twitter\n",
    "\n",
    "biden_re_netural = biden_re[biden_re['polarity'] == 0.0000]\n",
    "cond2=biden_re['polarity'].isin(biden_re_netural['polarity'])\n",
    "biden_re.drop(biden_re[cond2].index, inplace = True)\n",
    "print(trump_re.shape)\n",
    "print(biden_re.shape)"
   ]
  },
  {
   "cell_type": "code",
   "execution_count": 167,
   "id": "forbidden-samba",
   "metadata": {},
   "outputs": [],
   "source": [
    "# Convert the polarity values in to sentiment if the polarity values grater than 0 then possitive sentiments else negative\n",
    "trump_re['sentiment']= np.where(trump_re['polarity']>0.5,\"positive\",\"negative\")\n",
    "biden_re['sentiment']= np.where(biden_re['polarity']>0.5,\"positive\",\"negative\")"
   ]
  },
  {
   "cell_type": "code",
   "execution_count": 168,
   "id": "characteristic-inspiration",
   "metadata": {},
   "outputs": [
    {
     "name": "stdout",
     "output_type": "stream",
     "text": [
      "Sentiment for Reviews for regarding trump twitter\n",
      "negative    1165\n",
      "positive     159\n",
      "Name: sentiment, dtype: int64\n",
      "Sentiment for Reviews for regarding biden twitter\n",
      "negative    910\n",
      "positive    121\n",
      "Name: sentiment, dtype: int64\n"
     ]
    }
   ],
   "source": [
    "print(\"Sentiment for Reviews for regarding trump twitter\"+\"\\n\" + str(trump_re['sentiment'].value_counts()))\n",
    "print(\"Sentiment for Reviews for regarding biden twitter\"+\"\\n\" + str(biden_re['sentiment'].value_counts()))"
   ]
  },
  {
   "cell_type": "markdown",
   "id": "proper-workstation",
   "metadata": {},
   "source": [
    "So, After removing the neural twitte from the both data set it has differnt size of twitte so, \n",
    "now we will try to bring both data set twitter in to same length as 1000"
   ]
  },
  {
   "cell_type": "code",
   "execution_count": 169,
   "id": "sacred-small",
   "metadata": {},
   "outputs": [
    {
     "name": "stdout",
     "output_type": "stream",
     "text": [
      "Trump twitter after bring the same size (1000, 4)\n",
      "Biden twitter after bring the same size (1000, 4)\n"
     ]
    }
   ],
   "source": [
    "# Donald Trump\n",
    "remove_trump =324\n",
    "drop_indices_tr = np.random.choice(trump_re.index, remove_trump, replace=False)\n",
    "trump_subset = trump_re.drop(drop_indices_tr)\n",
    "print(\"Trump twitter after bring the same size\" + \" \"+ str(trump_subset.shape))\n",
    "# Joe Biden\n",
    "remove_biden =31\n",
    "drop_indices_bi = np.random.choice(biden_re.index, remove_biden, replace=False)\n",
    "biden_subset = biden_re.drop(drop_indices_bi,axis=0)\n",
    "print(\"Biden twitter after bring the same size\" + \" \"+ str(biden_subset.shape))"
   ]
  },
  {
   "cell_type": "code",
   "execution_count": 160,
   "id": "brave-summit",
   "metadata": {},
   "outputs": [
    {
     "data": {
      "text/plain": [
       "Text(0.5, 1.0, 'Biden polarity varition')"
      ]
     },
     "execution_count": 160,
     "metadata": {},
     "output_type": "execute_result"
    },
    {
     "data": {
      "image/png": "[encoded data removed]",
      "text/plain": [
       "<Figure size 360x360 with 1 Axes>"
      ]
     },
     "metadata": {},
     "output_type": "display_data"
    }
   ],
   "source": [
    "# Plot the displot for Biden twitter\n",
    "sns.displot(biden_subset['polarity'],kde='False')\n",
    "plt.title(\"Biden polarity varition\")"
   ]
  },
  {
   "cell_type": "code",
   "execution_count": 161,
   "id": "useful-wonder",
   "metadata": {},
   "outputs": [
    {
     "data": {
      "text/plain": [
       "Text(0.5, 1.0, 'Trump polarity varition')"
      ]
     },
     "execution_count": 161,
     "metadata": {},
     "output_type": "execute_result"
    },
    {
     "data": {
      "image/png": "[encoded data removed]",
      "text/plain": [
       "<Figure size 360x360 with 1 Axes>"
      ]
     },
     "metadata": {},
     "output_type": "display_data"
    }
   ],
   "source": [
    "# Plot the displot graph for Trump twitter polarity\n",
    "sns.displot(trump_subset['polarity'],kde='False')\n",
    "plt.title(\"Trump polarity varition\")"
   ]
  },
  {
   "cell_type": "code",
   "execution_count": 162,
   "id": "removed-sewing",
   "metadata": {},
   "outputs": [
    {
     "data": {
      "text/plain": [
       "Text(0.5, 1.0, 'Biden polarity varition')"
      ]
     },
     "execution_count": 162,
     "metadata": {},
     "output_type": "execute_result"
    },
    {
     "data": {
      "image/png": "[encoded data removed]",
      "text/plain": [
       "<Figure size 360x360 with 1 Axes>"
      ]
     },
     "metadata": {},
     "output_type": "display_data"
    }
   ],
   "source": [
    "# Plot the displot graph for Biden twitter polarity\n",
    "sns.displot(biden_subset['polarity'],kde='False')\n",
    "plt.title(\"Biden polarity varition\")"
   ]
  },
  {
   "cell_type": "markdown",
   "id": "interested-julian",
   "metadata": {},
   "source": [
    "Let's try to plot box plot for identify the outlayer in the both data set"
   ]
  },
  {
   "cell_type": "code",
   "execution_count": 79,
   "id": "unauthorized-aaron",
   "metadata": {},
   "outputs": [
    {
     "data": {
      "text/plain": [
       "Text(0.5, 1.0, 'Trump polarity varition')"
      ]
     },
     "execution_count": 79,
     "metadata": {},
     "output_type": "execute_result"
    },
    {
     "data": {
      "image/png": "[encoded data removed]",
      "text/plain": [
       "<Figure size 432x288 with 1 Axes>"
      ]
     },
     "metadata": {},
     "output_type": "display_data"
    }
   ],
   "source": [
    "# Plot the displot graph for Trump twitter polarity\n",
    "sns.boxplot(trump_subset['polarity'])\n",
    "plt.title(\"Trump polarity varition\")"
   ]
  },
  {
   "cell_type": "code",
   "execution_count": 163,
   "id": "blessed-uncle",
   "metadata": {},
   "outputs": [
    {
     "data": {
      "text/plain": [
       "Text(0.5, 1.0, 'Biden polarity varition')"
      ]
     },
     "execution_count": 163,
     "metadata": {},
     "output_type": "execute_result"
    },
    {
     "data": {
      "image/png": "[encoded data removed]",
      "text/plain": [
       "<Figure size 432x288 with 1 Axes>"
      ]
     },
     "metadata": {},
     "output_type": "display_data"
    }
   ],
   "source": [
    "# Plot the displot graph for Bidentwitter polarity\n",
    "sns.boxplot(biden_subset['polarity'])\n",
    "plt.title(\"Biden polarity varition\")"
   ]
  },
  {
   "cell_type": "markdown",
   "id": "periodic-hampton",
   "metadata": {},
   "source": [
    "Find the mean and standard deviation for each polarity values"
   ]
  },
  {
   "cell_type": "code",
   "execution_count": 170,
   "id": "ranging-semiconductor",
   "metadata": {},
   "outputs": [
    {
     "name": "stdout",
     "output_type": "stream",
     "text": [
      "Biden Positive twitte polarity mean polarity    0.349955\n",
      "dtype: float64\n",
      "Trump Positive twitte polarity mean polarity    0.374997\n",
      "dtype: float64\n",
      "Biden Positive twitte polarity Standard deviation  polarity    0.239828\n",
      "dtype: float64\n",
      "Trump Positive twitte polarity Standard deviation  polarity    0.267162\n",
      "dtype: float64\n"
     ]
    }
   ],
   "source": [
    "# Mean and Standard Deviation for the possitive sentiment\n",
    "print(\"Biden Positive twitte polarity mean\"+ \" \"+ str(biden_subset[biden_subset['polarity']>0].mean()))\n",
    "print(\"Trump Positive twitte polarity mean\"+ \" \"+ str(trump_subset[trump_subset['polarity']>0].mean()))\n",
    "print(\"Biden Positive twitte polarity Standard deviation \"+ \" \"+ str(biden_subset[biden_subset['polarity']>0].std()))\n",
    "print(\"Trump Positive twitte polarity Standard deviation \"+ \" \"+ str(trump_subset[trump_subset['polarity']>0].std()))\n"
   ]
  },
  {
   "cell_type": "markdown",
   "id": "outdoor-attitude",
   "metadata": {},
   "source": [
    "Here, we can see Trump has higher positive sentiment rather than Biden.  As well as if we consider the Standard deviation Trump has more deviation than Biden"
   ]
  },
  {
   "cell_type": "code",
   "execution_count": 171,
   "id": "efficient-crawford",
   "metadata": {},
   "outputs": [
    {
     "name": "stdout",
     "output_type": "stream",
     "text": [
      "Biden Negative twitte polarity mean polarity    0.293981\n",
      "dtype: float64\n",
      "Trump Negative twitte polarity mean polarity    0.324436\n",
      "dtype: float64\n",
      "Biden Negative twitte polarity Standard deviation  polarity    0.242936\n",
      "dtype: float64\n",
      "Trump Negative twitte polarity Standard deviation  polarity    0.2454\n",
      "dtype: float64\n"
     ]
    }
   ],
   "source": [
    "# Mean and Standard Deviation for the negative sentiment\n",
    "print(\"Biden Negative twitte polarity mean\"+ \" \"+ str(biden_subset[biden_subset['polarity']<0].mean().abs()))\n",
    "print(\"Trump Negative twitte polarity mean\"+ \" \"+ str(trump_subset[trump_subset['polarity']<0].mean().abs()))\n",
    "print(\"Biden Negative twitte polarity Standard deviation \"+ \" \"+ str(biden_subset[biden_subset['polarity']<0].std()))\n",
    "print(\"Trump Negative twitte polarity Standard deviation \"+ \" \"+ str(trump_subset[trump_subset['polarity']<0].std()))\n"
   ]
  },
  {
   "cell_type": "markdown",
   "id": "cardiovascular-assignment",
   "metadata": {},
   "source": [
    "Here, we can see Trump has higher negative sentiment rather than Biden \n",
    "As well as if we consider the Standard deviation Trump has more deviation than Biden. So, \n",
    "Now we can tell Trump has more negative twites than Biden.\n"
   ]
  },
  {
   "cell_type": "markdown",
   "id": "portable-winter",
   "metadata": {},
   "source": [
    "### Analyze both Twitter reviews together"
   ]
  },
  {
   "cell_type": "code",
   "execution_count": 172,
   "id": "framed-robinson",
   "metadata": {},
   "outputs": [
    {
     "name": "stdout",
     "output_type": "stream",
     "text": [
      "           user  text  polarity\n",
      "sentiment                      \n",
      "negative    877   877       877\n",
      "positive    123   123       123\n",
      "           user  text  polarity\n",
      "sentiment                      \n",
      "negative    881   881       881\n",
      "positive    119   119       119\n"
     ]
    }
   ],
   "source": [
    "# Group the sentiment categories\n",
    "trump_count= trump_subset.groupby('sentiment').count()\n",
    "biden_count= biden_subset.groupby('sentiment').count()\n",
    "print(trump_count)\n",
    "print(biden_count)"
   ]
  },
  {
   "cell_type": "code",
   "execution_count": 173,
   "id": "union-finish",
   "metadata": {},
   "outputs": [
    {
     "name": "stdout",
     "output_type": "stream",
     "text": [
      "Binden twitter Negative twitte Percentage 88.1\n",
      "Trump twitter Negative twitte Percentage 87.7\n"
     ]
    }
   ],
   "source": [
    "#Find the percentage for the Negative polarity\n",
    "biden_neg = (biden_count['polarity'][0]/1000)*100\n",
    "trump_neg = (trump_count['polarity'][0]/1000)*100\n",
    "\n",
    "print(\"Binden twitter Negative twitte Percentage\"+\" \" + str(biden_neg))\n",
    "print(\"Trump twitter Negative twitte Percentage\"+\" \" + str(trump_neg))"
   ]
  },
  {
   "cell_type": "code",
   "execution_count": 181,
   "id": "green-companion",
   "metadata": {},
   "outputs": [
    {
     "name": "stdout",
     "output_type": "stream",
     "text": [
      "Binden twitter positive twitte Percentage 11.899999999999999\n",
      "Trump twitter positive twitte Percentage 12.3\n"
     ]
    }
   ],
   "source": [
    "#Find the percentage for the Positive polarity\n",
    "biden_pos = (biden_count['polarity'][1]/1000)*100\n",
    "trump_pos = (trump_count['polarity'][1]/1000)*100\n",
    "print(\"Binden twitter positive twitte Percentage\"+\" \" + str(biden_pos))\n",
    "print(\"Trump twitter positive twitte Percentage\"+\" \" + str(trump_pos))"
   ]
  },
  {
   "cell_type": "code",
   "execution_count": 182,
   "id": "alpha-shopper",
   "metadata": {},
   "outputs": [
    {
     "name": "stdout",
     "output_type": "stream",
     "text": [
      "[11.899999999999999, 12.3]\n",
      "[88.1, 87.7]\n"
     ]
    }
   ],
   "source": [
    "#Make the combined both of them positive twitte\n",
    "positive_list = [biden_pos, trump_pos]\n",
    "negative_list = [biden_neg, trump_neg]\n",
    "print(possitive_list)\n",
    "print(negative_list)"
   ]
  },
  {
   "cell_type": "code",
   "execution_count": 183,
   "id": "final-riding",
   "metadata": {},
   "outputs": [
    {
     "data": {
      "application/vnd.plotly.v1+json": {
       "config": {
        "plotlyServerURL": "https://plot.ly"
       },
       "data": [
        {
         "name": "Positive",
         "type": "bar",
         "x": [
          "Joe Biden",
          "Donald Trump"
         ],
         "y": [
          11.899999999999999,
          12.3
         ]
        },
        {
         "name": "Negative",
         "type": "bar",
         "x": [
          "Joe Biden",
          "Donald Trump"
         ],
         "y": [
          88.1,
          87.7
         ]
        }
       ],
       "layout": {
        "barmode": "group",
        "template": {
         "data": {
          "bar": [
           {
            "error_x": {
             "color": "#2a3f5f"
            },
            "error_y": {
             "color": "#2a3f5f"
            },
            "marker": {
             "line": {
              "color": "#E5ECF6",
              "width": 0.5
             }
            },
            "type": "bar"
           }
          ],
          "barpolar": [
           {
            "marker": {
             "line": {
              "color": "#E5ECF6",
              "width": 0.5
             }
            },
            "type": "barpolar"
           }
          ],
          "carpet": [
           {
            "aaxis": {
             "endlinecolor": "#2a3f5f",
             "gridcolor": "white",
             "linecolor": "white",
             "minorgridcolor": "white",
             "startlinecolor": "#2a3f5f"
            },
            "baxis": {
             "endlinecolor": "#2a3f5f",
             "gridcolor": "white",
             "linecolor": "white",
             "minorgridcolor": "white",
             "startlinecolor": "#2a3f5f"
            },
            "type": "carpet"
           }
          ],
          "choropleth": [
           {
            "colorbar": {
             "outlinewidth": 0,
             "ticks": ""
            },
            "type": "choropleth"
           }
          ],
          "contour": [
           {
            "colorbar": {
             "outlinewidth": 0,
             "ticks": ""
            },
            "colorscale": [
             [
              0,
              "#0d0887"
             ],
             [
              0.1111111111111111,
              "#46039f"
             ],
             [
              0.2222222222222222,
              "#7201a8"
             ],
             [
              0.3333333333333333,
              "#9c179e"
             ],
             [
              0.4444444444444444,
              "#bd3786"
             ],
             [
              0.5555555555555556,
              "#d8576b"
             ],
             [
              0.6666666666666666,
              "#ed7953"
             ],
             [
              0.7777777777777778,
              "#fb9f3a"
             ],
             [
              0.8888888888888888,
              "#fdca26"
             ],
             [
              1,
              "#f0f921"
             ]
            ],
            "type": "contour"
           }
          ],
          "contourcarpet": [
           {
            "colorbar": {
             "outlinewidth": 0,
             "ticks": ""
            },
            "type": "contourcarpet"
           }
          ],
          "heatmap": [
           {
            "colorbar": {
             "outlinewidth": 0,
             "ticks": ""
            },
            "colorscale": [
             [
              0,
              "#0d0887"
             ],
             [
              0.1111111111111111,
              "#46039f"
             ],
             [
              0.2222222222222222,
              "#7201a8"
             ],
             [
              0.3333333333333333,
              "#9c179e"
             ],
             [
              0.4444444444444444,
              "#bd3786"
             ],
             [
              0.5555555555555556,
              "#d8576b"
             ],
             [
              0.6666666666666666,
              "#ed7953"
             ],
             [
              0.7777777777777778,
              "#fb9f3a"
             ],
             [
              0.8888888888888888,
              "#fdca26"
             ],
             [
              1,
              "#f0f921"
             ]
            ],
            "type": "heatmap"
           }
          ],
          "heatmapgl": [
           {
            "colorbar": {
             "outlinewidth": 0,
             "ticks": ""
            },
            "colorscale": [
             [
              0,
              "#0d0887"
             ],
             [
              0.1111111111111111,
              "#46039f"
             ],
             [
              0.2222222222222222,
              "#7201a8"
             ],
             [
              0.3333333333333333,
              "#9c179e"
             ],
             [
              0.4444444444444444,
              "#bd3786"
             ],
             [
              0.5555555555555556,
              "#d8576b"
             ],
             [
              0.6666666666666666,
              "#ed7953"
             ],
             [
              0.7777777777777778,
              "#fb9f3a"
             ],
             [
              0.8888888888888888,
              "#fdca26"
             ],
             [
              1,
              "#f0f921"
             ]
            ],
            "type": "heatmapgl"
           }
          ],
          "histogram": [
           {
            "marker": {
             "colorbar": {
              "outlinewidth": 0,
              "ticks": ""
             }
            },
            "type": "histogram"
           }
          ],
          "histogram2d": [
           {
            "colorbar": {
             "outlinewidth": 0,
             "ticks": ""
            },
            "colorscale": [
             [
              0,
              "#0d0887"
             ],
             [
              0.1111111111111111,
              "#46039f"
             ],
             [
              0.2222222222222222,
              "#7201a8"
             ],
             [
              0.3333333333333333,
              "#9c179e"
             ],
             [
              0.4444444444444444,
              "#bd3786"
             ],
             [
              0.5555555555555556,
              "#d8576b"
             ],
             [
              0.6666666666666666,
              "#ed7953"
             ],
             [
              0.7777777777777778,
              "#fb9f3a"
             ],
             [
              0.8888888888888888,
              "#fdca26"
             ],
             [
              1,
              "#f0f921"
             ]
            ],
            "type": "histogram2d"
           }
          ],
          "histogram2dcontour": [
           {
            "colorbar": {
             "outlinewidth": 0,
             "ticks": ""
            },
            "colorscale": [
             [
              0,
              "#0d0887"
             ],
             [
              0.1111111111111111,
              "#46039f"
             ],
             [
              0.2222222222222222,
              "#7201a8"
             ],
             [
              0.3333333333333333,
              "#9c179e"
             ],
             [
              0.4444444444444444,
              "#bd3786"
             ],
             [
              0.5555555555555556,
              "#d8576b"
             ],
             [
              0.6666666666666666,
              "#ed7953"
             ],
             [
              0.7777777777777778,
              "#fb9f3a"
             ],
             [
              0.8888888888888888,
              "#fdca26"
             ],
             [
              1,
              "#f0f921"
             ]
            ],
            "type": "histogram2dcontour"
           }
          ],
          "mesh3d": [
           {
            "colorbar": {
             "outlinewidth": 0,
             "ticks": ""
            },
            "type": "mesh3d"
           }
          ],
          "parcoords": [
           {
            "line": {
             "colorbar": {
              "outlinewidth": 0,
              "ticks": ""
             }
            },
            "type": "parcoords"
           }
          ],
          "pie": [
           {
            "automargin": true,
            "type": "pie"
           }
          ],
          "scatter": [
           {
            "marker": {
             "colorbar": {
              "outlinewidth": 0,
              "ticks": ""
             }
            },
            "type": "scatter"
           }
          ],
          "scatter3d": [
           {
            "line": {
             "colorbar": {
              "outlinewidth": 0,
              "ticks": ""
             }
            },
            "marker": {
             "colorbar": {
              "outlinewidth": 0,
              "ticks": ""
             }
            },
            "type": "scatter3d"
           }
          ],
          "scattercarpet": [
           {
            "marker": {
             "colorbar": {
              "outlinewidth": 0,
              "ticks": ""
             }
            },
            "type": "scattercarpet"
           }
          ],
          "scattergeo": [
           {
            "marker": {
             "colorbar": {
              "outlinewidth": 0,
              "ticks": ""
             }
            },
            "type": "scattergeo"
           }
          ],
          "scattergl": [
           {
            "marker": {
             "colorbar": {
              "outlinewidth": 0,
              "ticks": ""
             }
            },
            "type": "scattergl"
           }
          ],
          "scattermapbox": [
           {
            "marker": {
             "colorbar": {
              "outlinewidth": 0,
              "ticks": ""
             }
            },
            "type": "scattermapbox"
           }
          ],
          "scatterpolar": [
           {
            "marker": {
             "colorbar": {
              "outlinewidth": 0,
              "ticks": ""
             }
            },
            "type": "scatterpolar"
           }
          ],
          "scatterpolargl": [
           {
            "marker": {
             "colorbar": {
              "outlinewidth": 0,
              "ticks": ""
             }
            },
            "type": "scatterpolargl"
           }
          ],
          "scatterternary": [
           {
            "marker": {
             "colorbar": {
              "outlinewidth": 0,
              "ticks": ""
             }
            },
            "type": "scatterternary"
           }
          ],
          "surface": [
           {
            "colorbar": {
             "outlinewidth": 0,
             "ticks": ""
            },
            "colorscale": [
             [
              0,
              "#0d0887"
             ],
             [
              0.1111111111111111,
              "#46039f"
             ],
             [
              0.2222222222222222,
              "#7201a8"
             ],
             [
              0.3333333333333333,
              "#9c179e"
             ],
             [
              0.4444444444444444,
              "#bd3786"
             ],
             [
              0.5555555555555556,
              "#d8576b"
             ],
             [
              0.6666666666666666,
              "#ed7953"
             ],
             [
              0.7777777777777778,
              "#fb9f3a"
             ],
             [
              0.8888888888888888,
              "#fdca26"
             ],
             [
              1,
              "#f0f921"
             ]
            ],
            "type": "surface"
           }
          ],
          "table": [
           {
            "cells": {
             "fill": {
              "color": "#EBF0F8"
             },
             "line": {
              "color": "white"
             }
            },
            "header": {
             "fill": {
              "color": "#C8D4E3"
             },
             "line": {
              "color": "white"
             }
            },
            "type": "table"
           }
          ]
         },
         "layout": {
          "annotationdefaults": {
           "arrowcolor": "#2a3f5f",
           "arrowhead": 0,
           "arrowwidth": 1
          },
          "autotypenumbers": "strict",
          "coloraxis": {
           "colorbar": {
            "outlinewidth": 0,
            "ticks": ""
           }
          },
          "colorscale": {
           "diverging": [
            [
             0,
             "#8e0152"
            ],
            [
             0.1,
             "#c51b7d"
            ],
            [
             0.2,
             "#de77ae"
            ],
            [
             0.3,
             "#f1b6da"
            ],
            [
             0.4,
             "#fde0ef"
            ],
            [
             0.5,
             "#f7f7f7"
            ],
            [
             0.6,
             "#e6f5d0"
            ],
            [
             0.7,
             "#b8e186"
            ],
            [
             0.8,
             "#7fbc41"
            ],
            [
             0.9,
             "#4d9221"
            ],
            [
             1,
             "#276419"
            ]
           ],
           "sequential": [
            [
             0,
             "#0d0887"
            ],
            [
             0.1111111111111111,
             "#46039f"
            ],
            [
             0.2222222222222222,
             "#7201a8"
            ],
            [
             0.3333333333333333,
             "#9c179e"
            ],
            [
             0.4444444444444444,
             "#bd3786"
            ],
            [
             0.5555555555555556,
             "#d8576b"
            ],
            [
             0.6666666666666666,
             "#ed7953"
            ],
            [
             0.7777777777777778,
             "#fb9f3a"
            ],
            [
             0.8888888888888888,
             "#fdca26"
            ],
            [
             1,
             "#f0f921"
            ]
           ],
           "sequentialminus": [
            [
             0,
             "#0d0887"
            ],
            [
             0.1111111111111111,
             "#46039f"
            ],
            [
             0.2222222222222222,
             "#7201a8"
            ],
            [
             0.3333333333333333,
             "#9c179e"
            ],
            [
             0.4444444444444444,
             "#bd3786"
            ],
            [
             0.5555555555555556,
             "#d8576b"
            ],
            [
             0.6666666666666666,
             "#ed7953"
            ],
            [
             0.7777777777777778,
             "#fb9f3a"
            ],
            [
             0.8888888888888888,
             "#fdca26"
            ],
            [
             1,
             "#f0f921"
            ]
           ]
          },
          "colorway": [
           "#636efa",
           "#EF553B",
           "#00cc96",
           "#ab63fa",
           "#FFA15A",
           "#19d3f3",
           "#FF6692",
           "#B6E880",
           "#FF97FF",
           "#FECB52"
          ],
          "font": {
           "color": "#2a3f5f"
          },
          "geo": {
           "bgcolor": "white",
           "lakecolor": "white",
           "landcolor": "#E5ECF6",
           "showlakes": true,
           "showland": true,
           "subunitcolor": "white"
          },
          "hoverlabel": {
           "align": "left"
          },
          "hovermode": "closest",
          "mapbox": {
           "style": "light"
          },
          "paper_bgcolor": "white",
          "plot_bgcolor": "#E5ECF6",
          "polar": {
           "angularaxis": {
            "gridcolor": "white",
            "linecolor": "white",
            "ticks": ""
           },
           "bgcolor": "#E5ECF6",
           "radialaxis": {
            "gridcolor": "white",
            "linecolor": "white",
            "ticks": ""
           }
          },
          "scene": {
           "xaxis": {
            "backgroundcolor": "#E5ECF6",
            "gridcolor": "white",
            "gridwidth": 2,
            "linecolor": "white",
            "showbackground": true,
            "ticks": "",
            "zerolinecolor": "white"
           },
           "yaxis": {
            "backgroundcolor": "#E5ECF6",
            "gridcolor": "white",
            "gridwidth": 2,
            "linecolor": "white",
            "showbackground": true,
            "ticks": "",
            "zerolinecolor": "white"
           },
           "zaxis": {
            "backgroundcolor": "#E5ECF6",
            "gridcolor": "white",
            "gridwidth": 2,
            "linecolor": "white",
            "showbackground": true,
            "ticks": "",
            "zerolinecolor": "white"
           }
          },
          "shapedefaults": {
           "line": {
            "color": "#2a3f5f"
           }
          },
          "ternary": {
           "aaxis": {
            "gridcolor": "white",
            "linecolor": "white",
            "ticks": ""
           },
           "baxis": {
            "gridcolor": "white",
            "linecolor": "white",
            "ticks": ""
           },
           "bgcolor": "#E5ECF6",
           "caxis": {
            "gridcolor": "white",
            "linecolor": "white",
            "ticks": ""
           }
          },
          "title": {
           "x": 0.05
          },
          "xaxis": {
           "automargin": true,
           "gridcolor": "white",
           "linecolor": "white",
           "ticks": "",
           "title": {
            "standoff": 15
           },
           "zerolinecolor": "white",
           "zerolinewidth": 2
          },
          "yaxis": {
           "automargin": true,
           "gridcolor": "white",
           "linecolor": "white",
           "ticks": "",
           "title": {
            "standoff": 15
           },
           "zerolinecolor": "white",
           "zerolinewidth": 2
          }
         }
        }
       }
      },
      "text/html": [
       "<div>                            <div id=\"adb24931-b7b7-4c53-bbb9-6b3727be637c\" class=\"plotly-graph-div\" style=\"height:525px; width:100%;\"></div>            <script type=\"text/javascript\">                require([\"plotly\"], function(Plotly) {                    window.PLOTLYENV=window.PLOTLYENV || {};                                    if (document.getElementById(\"adb24931-b7b7-4c53-bbb9-6b3727be637c\")) {                    Plotly.newPlot(                        \"adb24931-b7b7-4c53-bbb9-6b3727be637c\",                        [{\"name\": \"Positive\", \"type\": \"bar\", \"x\": [\"Joe Biden\", \"Donald Trump\"], \"y\": [11.899999999999999, 12.3]}, {\"name\": \"Negative\", \"type\": \"bar\", \"x\": [\"Joe Biden\", \"Donald Trump\"], \"y\": [88.1, 87.7]}],                        {\"barmode\": \"group\", \"template\": {\"data\": {\"bar\": [{\"error_x\": {\"color\": \"#2a3f5f\"}, \"error_y\": {\"color\": \"#2a3f5f\"}, \"marker\": {\"line\": {\"color\": \"#E5ECF6\", \"width\": 0.5}}, \"type\": \"bar\"}], \"barpolar\": [{\"marker\": {\"line\": {\"color\": \"#E5ECF6\", \"width\": 0.5}}, \"type\": \"barpolar\"}], \"carpet\": [{\"aaxis\": {\"endlinecolor\": \"#2a3f5f\", \"gridcolor\": \"white\", \"linecolor\": \"white\", \"minorgridcolor\": \"white\", \"startlinecolor\": \"#2a3f5f\"}, \"baxis\": {\"endlinecolor\": \"#2a3f5f\", \"gridcolor\": \"white\", \"linecolor\": \"white\", \"minorgridcolor\": \"white\", \"startlinecolor\": \"#2a3f5f\"}, \"type\": \"carpet\"}], \"choropleth\": [{\"colorbar\": {\"outlinewidth\": 0, \"ticks\": \"\"}, \"type\": \"choropleth\"}], \"contour\": [{\"colorbar\": {\"outlinewidth\": 0, \"ticks\": \"\"}, \"colorscale\": [[0.0, \"#0d0887\"], [0.1111111111111111, \"#46039f\"], [0.2222222222222222, \"#7201a8\"], [0.3333333333333333, \"#9c179e\"], [0.4444444444444444, \"#bd3786\"], [0.5555555555555556, \"#d8576b\"], [0.6666666666666666, \"#ed7953\"], [0.7777777777777778, \"#fb9f3a\"], [0.8888888888888888, \"#fdca26\"], [1.0, \"#f0f921\"]], \"type\": \"contour\"}], \"contourcarpet\": [{\"colorbar\": {\"outlinewidth\": 0, \"ticks\": \"\"}, \"type\": \"contourcarpet\"}], \"heatmap\": [{\"colorbar\": {\"outlinewidth\": 0, \"ticks\": \"\"}, \"colorscale\": [[0.0, \"#0d0887\"], [0.1111111111111111, \"#46039f\"], [0.2222222222222222, \"#7201a8\"], [0.3333333333333333, \"#9c179e\"], [0.4444444444444444, \"#bd3786\"], [0.5555555555555556, \"#d8576b\"], [0.6666666666666666, \"#ed7953\"], [0.7777777777777778, \"#fb9f3a\"], [0.8888888888888888, \"#fdca26\"], [1.0, \"#f0f921\"]], \"type\": \"heatmap\"}], \"heatmapgl\": [{\"colorbar\": {\"outlinewidth\": 0, \"ticks\": \"\"}, \"colorscale\": [[0.0, \"#0d0887\"], [0.1111111111111111, \"#46039f\"], [0.2222222222222222, \"#7201a8\"], [0.3333333333333333, \"#9c179e\"], [0.4444444444444444, \"#bd3786\"], [0.5555555555555556, \"#d8576b\"], [0.6666666666666666, \"#ed7953\"], [0.7777777777777778, \"#fb9f3a\"], [0.8888888888888888, \"#fdca26\"], [1.0, \"#f0f921\"]], \"type\": \"heatmapgl\"}], \"histogram\": [{\"marker\": {\"colorbar\": {\"outlinewidth\": 0, \"ticks\": \"\"}}, \"type\": \"histogram\"}], \"histogram2d\": [{\"colorbar\": {\"outlinewidth\": 0, \"ticks\": \"\"}, \"colorscale\": [[0.0, \"#0d0887\"], [0.1111111111111111, \"#46039f\"], [0.2222222222222222, \"#7201a8\"], [0.3333333333333333, \"#9c179e\"], [0.4444444444444444, \"#bd3786\"], [0.5555555555555556, \"#d8576b\"], [0.6666666666666666, \"#ed7953\"], [0.7777777777777778, \"#fb9f3a\"], [0.8888888888888888, \"#fdca26\"], [1.0, \"#f0f921\"]], \"type\": \"histogram2d\"}], \"histogram2dcontour\": [{\"colorbar\": {\"outlinewidth\": 0, \"ticks\": \"\"}, \"colorscale\": [[0.0, \"#0d0887\"], [0.1111111111111111, \"#46039f\"], [0.2222222222222222, \"#7201a8\"], [0.3333333333333333, \"#9c179e\"], [0.4444444444444444, \"#bd3786\"], [0.5555555555555556, \"#d8576b\"], [0.6666666666666666, \"#ed7953\"], [0.7777777777777778, \"#fb9f3a\"], [0.8888888888888888, \"#fdca26\"], [1.0, \"#f0f921\"]], \"type\": \"histogram2dcontour\"}], \"mesh3d\": [{\"colorbar\": {\"outlinewidth\": 0, \"ticks\": \"\"}, \"type\": \"mesh3d\"}], \"parcoords\": [{\"line\": {\"colorbar\": {\"outlinewidth\": 0, \"ticks\": \"\"}}, \"type\": \"parcoords\"}], \"pie\": [{\"automargin\": true, \"type\": \"pie\"}], \"scatter\": [{\"marker\": {\"colorbar\": {\"outlinewidth\": 0, \"ticks\": \"\"}}, \"type\": \"scatter\"}], \"scatter3d\": [{\"line\": {\"colorbar\": {\"outlinewidth\": 0, \"ticks\": \"\"}}, \"marker\": {\"colorbar\": {\"outlinewidth\": 0, \"ticks\": \"\"}}, \"type\": \"scatter3d\"}], \"scattercarpet\": [{\"marker\": {\"colorbar\": {\"outlinewidth\": 0, \"ticks\": \"\"}}, \"type\": \"scattercarpet\"}], \"scattergeo\": [{\"marker\": {\"colorbar\": {\"outlinewidth\": 0, \"ticks\": \"\"}}, \"type\": \"scattergeo\"}], \"scattergl\": [{\"marker\": {\"colorbar\": {\"outlinewidth\": 0, \"ticks\": \"\"}}, \"type\": \"scattergl\"}], \"scattermapbox\": [{\"marker\": {\"colorbar\": {\"outlinewidth\": 0, \"ticks\": \"\"}}, \"type\": \"scattermapbox\"}], \"scatterpolar\": [{\"marker\": {\"colorbar\": {\"outlinewidth\": 0, \"ticks\": \"\"}}, \"type\": \"scatterpolar\"}], \"scatterpolargl\": [{\"marker\": {\"colorbar\": {\"outlinewidth\": 0, \"ticks\": \"\"}}, \"type\": \"scatterpolargl\"}], \"scatterternary\": [{\"marker\": {\"colorbar\": {\"outlinewidth\": 0, \"ticks\": \"\"}}, \"type\": \"scatterternary\"}], \"surface\": [{\"colorbar\": {\"outlinewidth\": 0, \"ticks\": \"\"}, \"colorscale\": [[0.0, \"#0d0887\"], [0.1111111111111111, \"#46039f\"], [0.2222222222222222, \"#7201a8\"], [0.3333333333333333, \"#9c179e\"], [0.4444444444444444, \"#bd3786\"], [0.5555555555555556, \"#d8576b\"], [0.6666666666666666, \"#ed7953\"], [0.7777777777777778, \"#fb9f3a\"], [0.8888888888888888, \"#fdca26\"], [1.0, \"#f0f921\"]], \"type\": \"surface\"}], \"table\": [{\"cells\": {\"fill\": {\"color\": \"#EBF0F8\"}, \"line\": {\"color\": \"white\"}}, \"header\": {\"fill\": {\"color\": \"#C8D4E3\"}, \"line\": {\"color\": \"white\"}}, \"type\": \"table\"}]}, \"layout\": {\"annotationdefaults\": {\"arrowcolor\": \"#2a3f5f\", \"arrowhead\": 0, \"arrowwidth\": 1}, \"autotypenumbers\": \"strict\", \"coloraxis\": {\"colorbar\": {\"outlinewidth\": 0, \"ticks\": \"\"}}, \"colorscale\": {\"diverging\": [[0, \"#8e0152\"], [0.1, \"#c51b7d\"], [0.2, \"#de77ae\"], [0.3, \"#f1b6da\"], [0.4, \"#fde0ef\"], [0.5, \"#f7f7f7\"], [0.6, \"#e6f5d0\"], [0.7, \"#b8e186\"], [0.8, \"#7fbc41\"], [0.9, \"#4d9221\"], [1, \"#276419\"]], \"sequential\": [[0.0, \"#0d0887\"], [0.1111111111111111, \"#46039f\"], [0.2222222222222222, \"#7201a8\"], [0.3333333333333333, \"#9c179e\"], [0.4444444444444444, \"#bd3786\"], [0.5555555555555556, \"#d8576b\"], [0.6666666666666666, \"#ed7953\"], [0.7777777777777778, \"#fb9f3a\"], [0.8888888888888888, \"#fdca26\"], [1.0, \"#f0f921\"]], \"sequentialminus\": [[0.0, \"#0d0887\"], [0.1111111111111111, \"#46039f\"], [0.2222222222222222, \"#7201a8\"], [0.3333333333333333, \"#9c179e\"], [0.4444444444444444, \"#bd3786\"], [0.5555555555555556, \"#d8576b\"], [0.6666666666666666, \"#ed7953\"], [0.7777777777777778, \"#fb9f3a\"], [0.8888888888888888, \"#fdca26\"], [1.0, \"#f0f921\"]]}, \"colorway\": [\"#636efa\", \"#EF553B\", \"#00cc96\", \"#ab63fa\", \"#FFA15A\", \"#19d3f3\", \"#FF6692\", \"#B6E880\", \"#FF97FF\", \"#FECB52\"], \"font\": {\"color\": \"#2a3f5f\"}, \"geo\": {\"bgcolor\": \"white\", \"lakecolor\": \"white\", \"landcolor\": \"#E5ECF6\", \"showlakes\": true, \"showland\": true, \"subunitcolor\": \"white\"}, \"hoverlabel\": {\"align\": \"left\"}, \"hovermode\": \"closest\", \"mapbox\": {\"style\": \"light\"}, \"paper_bgcolor\": \"white\", \"plot_bgcolor\": \"#E5ECF6\", \"polar\": {\"angularaxis\": {\"gridcolor\": \"white\", \"linecolor\": \"white\", \"ticks\": \"\"}, \"bgcolor\": \"#E5ECF6\", \"radialaxis\": {\"gridcolor\": \"white\", \"linecolor\": \"white\", \"ticks\": \"\"}}, \"scene\": {\"xaxis\": {\"backgroundcolor\": \"#E5ECF6\", \"gridcolor\": \"white\", \"gridwidth\": 2, \"linecolor\": \"white\", \"showbackground\": true, \"ticks\": \"\", \"zerolinecolor\": \"white\"}, \"yaxis\": {\"backgroundcolor\": \"#E5ECF6\", \"gridcolor\": \"white\", \"gridwidth\": 2, \"linecolor\": \"white\", \"showbackground\": true, \"ticks\": \"\", \"zerolinecolor\": \"white\"}, \"zaxis\": {\"backgroundcolor\": \"#E5ECF6\", \"gridcolor\": \"white\", \"gridwidth\": 2, \"linecolor\": \"white\", \"showbackground\": true, \"ticks\": \"\", \"zerolinecolor\": \"white\"}}, \"shapedefaults\": {\"line\": {\"color\": \"#2a3f5f\"}}, \"ternary\": {\"aaxis\": {\"gridcolor\": \"white\", \"linecolor\": \"white\", \"ticks\": \"\"}, \"baxis\": {\"gridcolor\": \"white\", \"linecolor\": \"white\", \"ticks\": \"\"}, \"bgcolor\": \"#E5ECF6\", \"caxis\": {\"gridcolor\": \"white\", \"linecolor\": \"white\", \"ticks\": \"\"}}, \"title\": {\"x\": 0.05}, \"xaxis\": {\"automargin\": true, \"gridcolor\": \"white\", \"linecolor\": \"white\", \"ticks\": \"\", \"title\": {\"standoff\": 15}, \"zerolinecolor\": \"white\", \"zerolinewidth\": 2}, \"yaxis\": {\"automargin\": true, \"gridcolor\": \"white\", \"linecolor\": \"white\", \"ticks\": \"\", \"title\": {\"standoff\": 15}, \"zerolinecolor\": \"white\", \"zerolinewidth\": 2}}}},                        {\"responsive\": true}                    ).then(function(){\n",
       "                            \n",
       "var gd = document.getElementById('adb24931-b7b7-4c53-bbb9-6b3727be637c');\n",
       "var x = new MutationObserver(function (mutations, observer) {{\n",
       "        var display = window.getComputedStyle(gd).display;\n",
       "        if (!display || display === 'none') {{\n",
       "            console.log([gd, 'removed!']);\n",
       "            Plotly.purge(gd);\n",
       "            observer.disconnect();\n",
       "        }}\n",
       "}});\n",
       "\n",
       "// Listen for the removal of the full notebook cells\n",
       "var notebookContainer = gd.closest('#notebook-container');\n",
       "if (notebookContainer) {{\n",
       "    x.observe(notebookContainer, {childList: true});\n",
       "}}\n",
       "\n",
       "// Listen for the clearing of the current output cell\n",
       "var outputEl = gd.closest('.output');\n",
       "if (outputEl) {{\n",
       "    x.observe(outputEl, {childList: true});\n",
       "}}\n",
       "\n",
       "                        })                };                });            </script>        </div>"
      ]
     },
     "metadata": {},
     "output_type": "display_data"
    }
   ],
   "source": [
    "poltican = ['Joe Biden','Donald Trump']\n",
    "fig = go.Figure(data=[\n",
    "    go.Bar(name='Positive', x=poltican, y=positive_list),\n",
    "    go.Bar(name='Negative', x=poltican, y=negative_list)])\n",
    "# Change the bar mode\n",
    "fig.update_layout(barmode='group')\n",
    "fig.show()"
   ]
  },
  {
   "cell_type": "code",
   "execution_count": 184,
   "id": "mounted-sunrise",
   "metadata": {},
   "outputs": [
    {
     "data": {
      "image/png": "[encoded data removed]",
      "text/plain": [
       "<Figure size 432x288 with 1 Axes>"
      ]
     },
     "metadata": {},
     "output_type": "display_data"
    }
   ],
   "source": [
    "labels =  ['Biden_Negative','Trump_Negative'] \n",
    "sizes = negative_list\n",
    "explode = (0.1, 0.1)\n",
    "\n",
    "fig1, ax1 = plt.subplots()\n",
    "ax1.pie(sizes, explode=explode, labels = labels, autopct = '%1.1f%%', shadow = True, startangle=90)\n",
    "ax1.set_title('Negative tweets on both the handles')\n",
    "plt.show()"
   ]
  },
  {
   "cell_type": "code",
   "execution_count": 185,
   "id": "educational-plastic",
   "metadata": {},
   "outputs": [
    {
     "data": {
      "image/png": "[encoded data removed]",
      "text/plain": [
       "<Figure size 432x288 with 1 Axes>"
      ]
     },
     "metadata": {},
     "output_type": "display_data"
    }
   ],
   "source": [
    "labels =  ['Biden_Negative','Trump_Negative'] \n",
    "sizes = possitive_list\n",
    "explode = (0.1, 0.1)\n",
    "\n",
    "fig1, ax1 = plt.subplots()\n",
    "ax1.pie(sizes, explode=explode, labels = labels, autopct = '%1.1f%%', shadow = True, startangle=90)\n",
    "ax1.set_title('Possitive tweets on both the handles')\n",
    "plt.show()"
   ]
  }
 ],
 "metadata": {
  "kernelspec": {
   "display_name": "Python 3",
   "language": "python",
   "name": "python3"
  },
  "language_info": {
   "codemirror_mode": {
    "name": "ipython",
    "version": 3
   },
   "file_extension": ".py",
   "mimetype": "text/x-python",
   "name": "python",
   "nbconvert_exporter": "python",
   "pygments_lexer": "ipython3",
   "version": "3.8.5"
  }
 },
 "nbformat": 4,
 "nbformat_minor": 5
}
